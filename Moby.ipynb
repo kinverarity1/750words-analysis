{
 "metadata": {
  "name": ""
 },
 "nbformat": 3,
 "nbformat_minor": 0,
 "worksheets": [
  {
   "cells": [
    {
     "cell_type": "code",
     "collapsed": false,
     "input": [
      "from collections import defaultdict"
     ],
     "language": "python",
     "metadata": {},
     "outputs": [],
     "prompt_number": 1
    },
    {
     "cell_type": "heading",
     "level": 2,
     "metadata": {},
     "source": [
      "Hyphenation (syllables)"
     ]
    },
    {
     "cell_type": "code",
     "collapsed": false,
     "input": [
      "hyphfn = '.\\Moby\\mhyph\\mhyph.txt'\n",
      "hyphen_char = chr(165)\n",
      "i = 0\n",
      "hdict = {}\n",
      "with open(hyphfn, mode='r') as f:\n",
      "    n = 187175.\n",
      "    r = range(0, int(n), int(n / 100))\n",
      "    while i <= n:\n",
      "        word = f.readline()[:-1]\n",
      "        parts = word.split(hyphen_char)\n",
      "        word = word.replace(hyphen_char, '')\n",
      "        hdict[word] = len(parts)\n",
      "        if i in r:\n",
      "            print '%.0f%%' % (i / n * 100),\n",
      "        i += 1"
     ],
     "language": "python",
     "metadata": {},
     "outputs": [
      {
       "output_type": "stream",
       "stream": "stdout",
       "text": [
        "0% 1% "
       ]
      },
      {
       "output_type": "stream",
       "stream": "stdout",
       "text": [
        "2% 3% 4% 5% "
       ]
      },
      {
       "output_type": "stream",
       "stream": "stdout",
       "text": [
        "6% 7% 8% 9% "
       ]
      },
      {
       "output_type": "stream",
       "stream": "stdout",
       "text": [
        "10% 11% 12% 13% "
       ]
      },
      {
       "output_type": "stream",
       "stream": "stdout",
       "text": [
        "14% 15% 16% 17% 18% "
       ]
      },
      {
       "output_type": "stream",
       "stream": "stdout",
       "text": [
        "19% 20% 21% 22% 23% "
       ]
      },
      {
       "output_type": "stream",
       "stream": "stdout",
       "text": [
        "24% 25% 26% 27% 28% "
       ]
      },
      {
       "output_type": "stream",
       "stream": "stdout",
       "text": [
        "29% 30% 31% 32% 33% "
       ]
      },
      {
       "output_type": "stream",
       "stream": "stdout",
       "text": [
        "34% 35% 36% 37% 38% "
       ]
      },
      {
       "output_type": "stream",
       "stream": "stdout",
       "text": [
        "39% 40% 41% 42% 43% "
       ]
      },
      {
       "output_type": "stream",
       "stream": "stdout",
       "text": [
        "44% 45% 46% 47% "
       ]
      },
      {
       "output_type": "stream",
       "stream": "stdout",
       "text": [
        "48% 49% 50% 51% "
       ]
      },
      {
       "output_type": "stream",
       "stream": "stdout",
       "text": [
        "52% 53% 54% 55% "
       ]
      },
      {
       "output_type": "stream",
       "stream": "stdout",
       "text": [
        "56% 57% 58% 59% "
       ]
      },
      {
       "output_type": "stream",
       "stream": "stdout",
       "text": [
        "60% 61% 62% 63% "
       ]
      },
      {
       "output_type": "stream",
       "stream": "stdout",
       "text": [
        "64% 65% 66% 67% "
       ]
      },
      {
       "output_type": "stream",
       "stream": "stdout",
       "text": [
        "68% 69% 70% 71% 72% "
       ]
      },
      {
       "output_type": "stream",
       "stream": "stdout",
       "text": [
        "73% 74% 75% 76% "
       ]
      },
      {
       "output_type": "stream",
       "stream": "stdout",
       "text": [
        "77% 78% 79% "
       ]
      },
      {
       "output_type": "stream",
       "stream": "stdout",
       "text": [
        "80% 81% 82% 83% "
       ]
      },
      {
       "output_type": "stream",
       "stream": "stdout",
       "text": [
        "84% 85% 86% 87% "
       ]
      },
      {
       "output_type": "stream",
       "stream": "stdout",
       "text": [
        "88% 89% 90% 91% "
       ]
      },
      {
       "output_type": "stream",
       "stream": "stdout",
       "text": [
        "92% 93% 94% "
       ]
      },
      {
       "output_type": "stream",
       "stream": "stdout",
       "text": [
        "95% 96% 97% 98% 99% "
       ]
      },
      {
       "output_type": "stream",
       "stream": "stdout",
       "text": [
        "100%\n"
       ]
      }
     ],
     "prompt_number": 2
    },
    {
     "cell_type": "heading",
     "level": 2,
     "metadata": {},
     "source": [
      "Parts-of-speech"
     ]
    },
    {
     "cell_type": "code",
     "collapsed": false,
     "input": [
      "posfn = '.\\Moby\\mpos\\mobyposi.i'\n",
      "poschar = chr(165)"
     ],
     "language": "python",
     "metadata": {},
     "outputs": [],
     "prompt_number": 3
    },
    {
     "cell_type": "code",
     "collapsed": false,
     "input": [
      "postypes = {'N': 'noun',\n",
      "            'p': 'plural',\n",
      "            'h': 'noun phrase',\n",
      "            'V': 'verb (participle)',\n",
      "            't': 'verb (transitive)',\n",
      "            'i': 'verb (intransitive)',\n",
      "            'A': 'adjective',\n",
      "            'v': 'adverb',\n",
      "            'C': 'conjunction',\n",
      "            'P': 'preposition',\n",
      "            '!': 'interjection',\n",
      "            'r': 'pronoun',\n",
      "            'D': 'definite article',\n",
      "            'I': 'indefinite article',\n",
      "            'o': 'nominative'}\n",
      "pos_parse_func = lambda codes: [postypes[char] for char in codes]\n",
      "POS_DELIM = chr(215)\n",
      "LINE_BREAK = chr(13)"
     ],
     "language": "python",
     "metadata": {},
     "outputs": [],
     "prompt_number": 4
    },
    {
     "cell_type": "code",
     "collapsed": false,
     "input": [
      "class map_suffixes(dict):\n",
      "    '''Replacement mapping class which tries suffixes on any words that\n",
      "    aren't in the keys.'''\n",
      "    def __init__(self, *args, **kwargs):\n",
      "        dict.__init__(self, *args, **kwargs)\n",
      "    \n",
      "    def __getitem__(self, key):\n",
      "        try:\n",
      "            return dict.__getitem__(self, key)\n",
      "        except KeyError as original_exception:\n",
      "            \n",
      "            # Plural nouns ending in -s. This should be fairly solid.\n",
      "            if key.endswith('s'):\n",
      "                try:\n",
      "                    root_poses = self[key[:-1]]\n",
      "                except KeyError:\n",
      "                    raise original_exception\n",
      "                else:\n",
      "                    if 'noun' in root_poses:\n",
      "                        print '%s -> %s [noun]' % (key, key[:-1])\n",
      "                        return ['plural']\n",
      "                    else:\n",
      "                        raise original_exception\n",
      "            \n",
      "            # The following looks for -ed, -ing, -ly, and -ic. I have\n",
      "            # no idea whether this is valid.\n",
      "            \n",
      "            for suffix in ('ed', 'ing', 'ly', 'ic'):\n",
      "                root = key[:-1 * len(suffix)]\n",
      "                if key.endswith(suffix) and root in self:\n",
      "                    print '%s -> %s' % (key, root)\n",
      "                    return self.__getitem__(root)\n",
      "        raise KeyError(key)"
     ],
     "language": "python",
     "metadata": {},
     "outputs": [],
     "prompt_number": 5
    },
    {
     "cell_type": "code",
     "collapsed": false,
     "input": [
      "with open(posfn, mode='r') as f:\n",
      "    poslist = (posfield.split(POS_DELIM) for posfield in f.read().split(LINE_BREAK) if POS_DELIM in posfield)\n",
      "posdict = map_suffixes()\n",
      "for i, content in enumerate(poslist):\n",
      "    try:\n",
      "        word, poscodes = content\n",
      "        posdict[word] = pos_parse_func(poscodes)\n",
      "    except KeyError:\n",
      "        print 'line %d' % i, word, '|', poscodes#, sys.exc_info()"
     ],
     "language": "python",
     "metadata": {},
     "outputs": [
      {
       "output_type": "stream",
       "stream": "stdout",
       "text": [
        "line 43923 cowardic | Ne\n"
       ]
      }
     ],
     "prompt_number": 7
    },
    {
     "cell_type": "code",
     "collapsed": false,
     "input": [
      "posdict['resistivity']"
     ],
     "language": "python",
     "metadata": {},
     "outputs": [
      {
       "metadata": {},
       "output_type": "pyout",
       "prompt_number": 9,
       "text": [
        "['noun']"
       ]
      }
     ],
     "prompt_number": 9
    },
    {
     "cell_type": "code",
     "collapsed": false,
     "input": [],
     "language": "python",
     "metadata": {},
     "outputs": []
    }
   ],
   "metadata": {}
  }
 ]
}