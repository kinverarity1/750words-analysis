{
 "metadata": {
  "name": ""
 },
 "nbformat": 3,
 "nbformat_minor": 0,
 "worksheets": [
  {
   "cells": [
    {
     "cell_type": "code",
     "collapsed": false,
     "input": [
      "%matplotlib inline\n",
      "import m750\n",
      "text, entries = m750.read_local_750words(r'U:\\Downloads')"
     ],
     "language": "python",
     "metadata": {},
     "outputs": [],
     "prompt_number": 9
    },
    {
     "cell_type": "code",
     "collapsed": false,
     "input": [
      "a = m750.stats(text, use_moby=1)"
     ],
     "language": "python",
     "metadata": {},
     "outputs": [],
     "prompt_number": 10
    },
    {
     "cell_type": "code",
     "collapsed": false,
     "input": [
      "#fd = dict(*(key, "
     ],
     "language": "python",
     "metadata": {},
     "outputs": [],
     "prompt_number": 11
    },
    {
     "cell_type": "code",
     "collapsed": false,
     "input": [
      "d = sorted(a.freqdict.values(), reverse=1)[:44]\n",
      "d = np.asarray(d)\n",
      "plt.plot(np.gradient(d))"
     ],
     "language": "python",
     "metadata": {},
     "outputs": [
      {
       "metadata": {},
       "output_type": "pyout",
       "prompt_number": 21,
       "text": [
        "[<matplotlib.lines.Line2D at 0x7841730>]"
       ]
      },
      {
       "metadata": {},
       "output_type": "display_data",
       "png": "[encoded data removed]",
       "text": [
        "<matplotlib.figure.Figure at 0xa763210>"
       ]
      }
     ],
     "prompt_number": 21
    },
    {
     "cell_type": "code",
     "collapsed": false,
     "input": [
      "import pprint\n",
      "pprint.pprint(a.wordfreqpairs[:44])"
     ],
     "language": "python",
     "metadata": {},
     "outputs": [
      {
       "output_type": "stream",
       "stream": "stdout",
       "text": [
        "[('the', 2421),\n",
        " ('I', 2107),\n",
        " ('and', 1808),\n",
        " ('to', 1726),\n",
        " ('a', 1619),\n",
        " ('of', 1125),\n",
        " ('it', 972),\n",
        " ('is', 842),\n",
        " ('in', 802),\n",
        " ('that', 723),\n",
        " ('for', 555),\n",
        " ('was', 526),\n",
        " ('on', 517),\n",
        " ('at', 464),\n",
        " ('my', 437),\n",
        " ('with', 407),\n",
        " ('but', 396),\n",
        " ('about', 353),\n",
        " ('have', 339),\n",
        " ('not', 309),\n",
        " ('me', 297),\n",
        " ('be', 286),\n",
        " ('this', 268),\n",
        " ('or', 265),\n",
        " ('so', 247),\n",
        " ('up', 237),\n",
        " ('as', 230),\n",
        " ('like', 217),\n",
        " ('are', 216),\n",
        " ('The', 215),\n",
        " ('do', 209),\n",
        " ('then', 204),\n",
        " ('which', 198),\n",
        " ('really', 195),\n",
        " (\"I'm\", 195),\n",
        " ('an', 193),\n",
        " ('all', 193),\n",
        " ('from', 192),\n",
        " ('out', 184),\n",
        " ('her', 183),\n",
        " ('just', 183),\n",
        " ('by', 177),\n",
        " ('more', 176),\n",
        " ('had', 169)]\n"
       ]
      }
     ],
     "prompt_number": 19
    },
    {
     "cell_type": "code",
     "collapsed": false,
     "input": [],
     "language": "python",
     "metadata": {},
     "outputs": []
    }
   ],
   "metadata": {}
  }
 ]
}