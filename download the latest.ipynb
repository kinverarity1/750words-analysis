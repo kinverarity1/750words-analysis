{
 "metadata": {
  "name": ""
 },
 "nbformat": 3,
 "nbformat_minor": 0,
 "worksheets": [
  {
   "cells": [
    {
     "cell_type": "code",
     "collapsed": false,
     "input": [
      "from __future__ import division\n",
      "from m750 import *\n",
      "text, entries = download_750words(current=False)"
     ],
     "language": "python",
     "metadata": {},
     "outputs": [
      {
       "output_type": "stream",
       "stream": "stdout",
       "text": [
        "Logging in to 750words.com with email=kinverarity1@gmail.com password=****...\n",
        "Downloading https://750words.com/export/2013/12... [1 of 17]"
       ]
      },
      {
       "output_type": "stream",
       "stream": "stdout",
       "text": [
        "\n",
        "  saving to C:\\Users\\Kent\\Downloads\\750 Words-export-dec-2013.txt..."
       ]
      },
      {
       "output_type": "stream",
       "stream": "stdout",
       "text": [
        "\n",
        "Downloading https://750words.com/export/2013/11... [2 of 17]"
       ]
      },
      {
       "output_type": "stream",
       "stream": "stdout",
       "text": [
        "\n",
        "  saving to C:\\Users\\Kent\\Downloads\\750 Words-export-nov-2013.txt..."
       ]
      },
      {
       "output_type": "stream",
       "stream": "stdout",
       "text": [
        "\n",
        "Downloading https://750words.com/export/2013/10... [3 of 17]"
       ]
      },
      {
       "output_type": "stream",
       "stream": "stdout",
       "text": [
        "\n",
        "  saving to C:\\Users\\Kent\\Downloads\\750 Words-export-oct-2013.txt..."
       ]
      },
      {
       "output_type": "stream",
       "stream": "stdout",
       "text": [
        "\n",
        "Downloading https://750words.com/export/2013/9... [4 of 17]"
       ]
      },
      {
       "output_type": "stream",
       "stream": "stdout",
       "text": [
        "\n",
        "  saving to C:\\Users\\Kent\\Downloads\\750 Words-export-sep-2013.txt..."
       ]
      },
      {
       "output_type": "stream",
       "stream": "stdout",
       "text": [
        "\n",
        "Downloading https://750words.com/export/2013/8... [5 of 17]"
       ]
      },
      {
       "output_type": "stream",
       "stream": "stdout",
       "text": [
        "\n",
        "  saving to C:\\Users\\Kent\\Downloads\\750 Words-export-aug-2013.txt..."
       ]
      },
      {
       "output_type": "stream",
       "stream": "stdout",
       "text": [
        "\n",
        "Downloading https://750words.com/export/2013/7... [6 of 17]"
       ]
      },
      {
       "output_type": "stream",
       "stream": "stdout",
       "text": [
        "\n",
        "  saving to C:\\Users\\Kent\\Downloads\\750 Words-export-jul-2013.txt..."
       ]
      },
      {
       "output_type": "stream",
       "stream": "stdout",
       "text": [
        "\n",
        "Downloading https://750words.com/export/2013/6... [7 of 17]"
       ]
      },
      {
       "output_type": "stream",
       "stream": "stdout",
       "text": [
        "\n",
        "  saving to C:\\Users\\Kent\\Downloads\\750 Words-export-jun-2013.txt..."
       ]
      },
      {
       "output_type": "stream",
       "stream": "stdout",
       "text": [
        "\n",
        "Downloading https://750words.com/export/2013/5... [8 of 17]"
       ]
      },
      {
       "output_type": "stream",
       "stream": "stdout",
       "text": [
        "\n",
        "  saving to C:\\Users\\Kent\\Downloads\\750 Words-export-may-2013.txt..."
       ]
      },
      {
       "output_type": "stream",
       "stream": "stdout",
       "text": [
        "\n",
        "Downloading https://750words.com/export/2013/4... [9 of 17]"
       ]
      },
      {
       "output_type": "stream",
       "stream": "stdout",
       "text": [
        "\n",
        "  saving to C:\\Users\\Kent\\Downloads\\750 Words-export-apr-2013.txt..."
       ]
      },
      {
       "output_type": "stream",
       "stream": "stdout",
       "text": [
        "\n",
        "Downloading https://750words.com/export/2013/3... [10 of 17]"
       ]
      },
      {
       "output_type": "stream",
       "stream": "stdout",
       "text": [
        "\n",
        "  saving to C:\\Users\\Kent\\Downloads\\750 Words-export-mar-2013.txt..."
       ]
      },
      {
       "output_type": "stream",
       "stream": "stdout",
       "text": [
        "\n",
        "Downloading https://750words.com/export/2013/2... [11 of 17]"
       ]
      },
      {
       "output_type": "stream",
       "stream": "stdout",
       "text": [
        "\n",
        "  saving to C:\\Users\\Kent\\Downloads\\750 Words-export-feb-2013.txt..."
       ]
      },
      {
       "output_type": "stream",
       "stream": "stdout",
       "text": [
        "\n",
        "Downloading https://750words.com/export/2013/1... [12 of 17]"
       ]
      },
      {
       "output_type": "stream",
       "stream": "stdout",
       "text": [
        "\n",
        "  saving to C:\\Users\\Kent\\Downloads\\750 Words-export-jan-2013.txt..."
       ]
      },
      {
       "output_type": "stream",
       "stream": "stdout",
       "text": [
        "\n",
        "Downloading https://750words.com/export/2012/6... [13 of 17]"
       ]
      },
      {
       "output_type": "stream",
       "stream": "stdout",
       "text": [
        "\n",
        "  saving to C:\\Users\\Kent\\Downloads\\750 Words-export-jun-2012.txt..."
       ]
      },
      {
       "output_type": "stream",
       "stream": "stdout",
       "text": [
        "\n",
        "Downloading https://750words.com/export/2011/11... [14 of 17]"
       ]
      },
      {
       "output_type": "stream",
       "stream": "stdout",
       "text": [
        "\n",
        "  saving to C:\\Users\\Kent\\Downloads\\750 Words-export-nov-2011.txt..."
       ]
      },
      {
       "output_type": "stream",
       "stream": "stdout",
       "text": [
        "\n",
        "Downloading https://750words.com/export/2011/10... [15 of 17]"
       ]
      },
      {
       "output_type": "stream",
       "stream": "stdout",
       "text": [
        "\n",
        "  saving to C:\\Users\\Kent\\Downloads\\750 Words-export-oct-2011.txt..."
       ]
      },
      {
       "output_type": "stream",
       "stream": "stdout",
       "text": [
        "\n",
        "Downloading https://750words.com/export/2011/9... [16 of 17]"
       ]
      },
      {
       "output_type": "stream",
       "stream": "stdout",
       "text": [
        "\n",
        "  saving to C:\\Users\\Kent\\Downloads\\750 Words-export-sep-2011.txt..."
       ]
      },
      {
       "output_type": "stream",
       "stream": "stdout",
       "text": [
        "\n",
        "Downloading https://750words.com/export/2011/7... [17 of 17]"
       ]
      },
      {
       "output_type": "stream",
       "stream": "stdout",
       "text": [
        "\n",
        "  saving to C:\\Users\\Kent\\Downloads\\750 Words-export-jul-2011.txt..."
       ]
      },
      {
       "output_type": "stream",
       "stream": "stdout",
       "text": [
        "\n"
       ]
      }
     ],
     "prompt_number": 1
    },
    {
     "cell_type": "code",
     "collapsed": false,
     "input": [],
     "language": "python",
     "metadata": {},
     "outputs": []
    }
   ],
   "metadata": {}
  }
 ]
}